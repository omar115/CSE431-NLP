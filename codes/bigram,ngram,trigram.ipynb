{
 "cells": [
  {
   "cell_type": "code",
   "execution_count": 1,
   "metadata": {},
   "outputs": [],
   "source": [
    "import nltk\n",
    "from nltk.util import bigrams, trigrams, ngrams"
   ]
  },
  {
   "cell_type": "code",
   "execution_count": 2,
   "metadata": {},
   "outputs": [],
   "source": [
    "sentence = \"Success in creating AI would be the biggest event in human history. Unfortunately, it might also be the last, unless we learn how to avoid the risks.\""
   ]
  },
  {
   "cell_type": "code",
   "execution_count": 3,
   "metadata": {},
   "outputs": [],
   "source": [
    "tokens = nltk.word_tokenize(sentence)"
   ]
  },
  {
   "cell_type": "code",
   "execution_count": 4,
   "metadata": {},
   "outputs": [
    {
     "data": {
      "text/plain": [
       "['Success',\n",
       " 'in',\n",
       " 'creating',\n",
       " 'AI',\n",
       " 'would',\n",
       " 'be',\n",
       " 'the',\n",
       " 'biggest',\n",
       " 'event',\n",
       " 'in',\n",
       " 'human',\n",
       " 'history',\n",
       " '.',\n",
       " 'Unfortunately',\n",
       " ',',\n",
       " 'it',\n",
       " 'might',\n",
       " 'also',\n",
       " 'be',\n",
       " 'the',\n",
       " 'last',\n",
       " ',',\n",
       " 'unless',\n",
       " 'we',\n",
       " 'learn',\n",
       " 'how',\n",
       " 'to',\n",
       " 'avoid',\n",
       " 'the',\n",
       " 'risks',\n",
       " '.']"
      ]
     },
     "execution_count": 4,
     "metadata": {},
     "output_type": "execute_result"
    }
   ],
   "source": [
    "tokens"
   ]
  },
  {
   "cell_type": "code",
   "execution_count": 5,
   "metadata": {},
   "outputs": [],
   "source": [
    "#apply bigram model\n",
    "bigrm = list(nltk.bigrams(tokens))"
   ]
  },
  {
   "cell_type": "code",
   "execution_count": 6,
   "metadata": {},
   "outputs": [
    {
     "data": {
      "text/plain": [
       "[('Success', 'in'),\n",
       " ('in', 'creating'),\n",
       " ('creating', 'AI'),\n",
       " ('AI', 'would'),\n",
       " ('would', 'be'),\n",
       " ('be', 'the'),\n",
       " ('the', 'biggest'),\n",
       " ('biggest', 'event'),\n",
       " ('event', 'in'),\n",
       " ('in', 'human'),\n",
       " ('human', 'history'),\n",
       " ('history', '.'),\n",
       " ('.', 'Unfortunately'),\n",
       " ('Unfortunately', ','),\n",
       " (',', 'it'),\n",
       " ('it', 'might'),\n",
       " ('might', 'also'),\n",
       " ('also', 'be'),\n",
       " ('be', 'the'),\n",
       " ('the', 'last'),\n",
       " ('last', ','),\n",
       " (',', 'unless'),\n",
       " ('unless', 'we'),\n",
       " ('we', 'learn'),\n",
       " ('learn', 'how'),\n",
       " ('how', 'to'),\n",
       " ('to', 'avoid'),\n",
       " ('avoid', 'the'),\n",
       " ('the', 'risks'),\n",
       " ('risks', '.')]"
      ]
     },
     "execution_count": 6,
     "metadata": {},
     "output_type": "execute_result"
    }
   ],
   "source": [
    "bigrm"
   ]
  },
  {
   "cell_type": "code",
   "execution_count": 7,
   "metadata": {},
   "outputs": [],
   "source": [
    "#apply trigram model\n",
    "trigm = list(nltk.trigrams(tokens))"
   ]
  },
  {
   "cell_type": "code",
   "execution_count": 8,
   "metadata": {},
   "outputs": [
    {
     "data": {
      "text/plain": [
       "[('Success', 'in', 'creating'),\n",
       " ('in', 'creating', 'AI'),\n",
       " ('creating', 'AI', 'would'),\n",
       " ('AI', 'would', 'be'),\n",
       " ('would', 'be', 'the'),\n",
       " ('be', 'the', 'biggest'),\n",
       " ('the', 'biggest', 'event'),\n",
       " ('biggest', 'event', 'in'),\n",
       " ('event', 'in', 'human'),\n",
       " ('in', 'human', 'history'),\n",
       " ('human', 'history', '.'),\n",
       " ('history', '.', 'Unfortunately'),\n",
       " ('.', 'Unfortunately', ','),\n",
       " ('Unfortunately', ',', 'it'),\n",
       " (',', 'it', 'might'),\n",
       " ('it', 'might', 'also'),\n",
       " ('might', 'also', 'be'),\n",
       " ('also', 'be', 'the'),\n",
       " ('be', 'the', 'last'),\n",
       " ('the', 'last', ','),\n",
       " ('last', ',', 'unless'),\n",
       " (',', 'unless', 'we'),\n",
       " ('unless', 'we', 'learn'),\n",
       " ('we', 'learn', 'how'),\n",
       " ('learn', 'how', 'to'),\n",
       " ('how', 'to', 'avoid'),\n",
       " ('to', 'avoid', 'the'),\n",
       " ('avoid', 'the', 'risks'),\n",
       " ('the', 'risks', '.')]"
      ]
     },
     "execution_count": 8,
     "metadata": {},
     "output_type": "execute_result"
    }
   ],
   "source": [
    "trigm"
   ]
  },
  {
   "cell_type": "code",
   "execution_count": 9,
   "metadata": {},
   "outputs": [],
   "source": [
    "#apply ngram model\n",
    "#nltk.ngrams(tokens,N)--here N is the parameter\n",
    "#that you will put how many n numbers you\n",
    "#want to apply the model\n",
    "ngrm = list(nltk.ngrams(tokens, 5))"
   ]
  },
  {
   "cell_type": "code",
   "execution_count": 10,
   "metadata": {},
   "outputs": [
    {
     "data": {
      "text/plain": [
       "[('Success', 'in', 'creating', 'AI', 'would'),\n",
       " ('in', 'creating', 'AI', 'would', 'be'),\n",
       " ('creating', 'AI', 'would', 'be', 'the'),\n",
       " ('AI', 'would', 'be', 'the', 'biggest'),\n",
       " ('would', 'be', 'the', 'biggest', 'event'),\n",
       " ('be', 'the', 'biggest', 'event', 'in'),\n",
       " ('the', 'biggest', 'event', 'in', 'human'),\n",
       " ('biggest', 'event', 'in', 'human', 'history'),\n",
       " ('event', 'in', 'human', 'history', '.'),\n",
       " ('in', 'human', 'history', '.', 'Unfortunately'),\n",
       " ('human', 'history', '.', 'Unfortunately', ','),\n",
       " ('history', '.', 'Unfortunately', ',', 'it'),\n",
       " ('.', 'Unfortunately', ',', 'it', 'might'),\n",
       " ('Unfortunately', ',', 'it', 'might', 'also'),\n",
       " (',', 'it', 'might', 'also', 'be'),\n",
       " ('it', 'might', 'also', 'be', 'the'),\n",
       " ('might', 'also', 'be', 'the', 'last'),\n",
       " ('also', 'be', 'the', 'last', ','),\n",
       " ('be', 'the', 'last', ',', 'unless'),\n",
       " ('the', 'last', ',', 'unless', 'we'),\n",
       " ('last', ',', 'unless', 'we', 'learn'),\n",
       " (',', 'unless', 'we', 'learn', 'how'),\n",
       " ('unless', 'we', 'learn', 'how', 'to'),\n",
       " ('we', 'learn', 'how', 'to', 'avoid'),\n",
       " ('learn', 'how', 'to', 'avoid', 'the'),\n",
       " ('how', 'to', 'avoid', 'the', 'risks'),\n",
       " ('to', 'avoid', 'the', 'risks', '.')]"
      ]
     },
     "execution_count": 10,
     "metadata": {},
     "output_type": "execute_result"
    }
   ],
   "source": [
    "ngrm"
   ]
  },
  {
   "cell_type": "code",
   "execution_count": null,
   "metadata": {},
   "outputs": [],
   "source": []
  }
 ],
 "metadata": {
  "kernelspec": {
   "display_name": "Python 3",
   "language": "python",
   "name": "python3"
  },
  "language_info": {
   "codemirror_mode": {
    "name": "ipython",
    "version": 3
   },
   "file_extension": ".py",
   "mimetype": "text/x-python",
   "name": "python",
   "nbconvert_exporter": "python",
   "pygments_lexer": "ipython3",
   "version": "3.6.9"
  }
 },
 "nbformat": 4,
 "nbformat_minor": 4
}
